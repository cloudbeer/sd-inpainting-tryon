{
 "cells": [
  {
   "attachments": {},
   "cell_type": "markdown",
   "metadata": {},
   "source": [
    "# 在 SageMaker 上使用 Stable Diffusion 的局部重绘给衣服换模特 (部署)"
   ]
  },
  {
   "cell_type": "code",
   "execution_count": 7,
   "metadata": {},
   "outputs": [
    {
     "name": "stdout",
     "output_type": "stream",
     "text": [
      "a code\n",
      "a code/requirements.txt\n",
      "a code/inference.py\n",
      "upload: ./stable-diffusion-inpainting-tryon.tar.gz to s3://cloudbeer-llm-models/diffusers/stable-diffusion-inpainting-tryon.tar.gz\n"
     ]
    }
   ],
   "source": [
    "!sh ./deploy-s3.sh"
   ]
  },
  {
   "cell_type": "code",
   "execution_count": 8,
   "metadata": {},
   "outputs": [
    {
     "name": "stdout",
     "output_type": "stream",
     "text": [
      "---------!"
     ]
    }
   ],
   "source": [
    "import boto3  \n",
    "from sagemaker.huggingface.model import HuggingFaceModel\n",
    "\n",
    "s3_model = \"s3://cloudbeer-llm-models/diffusers/stable-diffusion-inpainting-tryon.tar.gz\"\n",
    "\n",
    "iam_client = boto3.client('iam')\n",
    "role = iam_client.get_role(RoleName='HuggingfaceExecuteRole')['Role']['Arn']\n",
    "\n",
    "huggingface_model = HuggingFaceModel(\n",
    "  model_data=s3_model,\n",
    "  role=role,\n",
    "  transformers_version=\"4.26\",  \n",
    "  pytorch_version=\"1.13\",\n",
    "  py_version='py39',\n",
    ")\n",
    "\n",
    "predictor = huggingface_model.deploy(\n",
    "  initial_instance_count=1,\n",
    "  instance_type='ml.g4dn.xlarge',\n",
    "  endpoint_name='sd-inpainting-tryon',\n",
    ")"
   ]
  }
 ],
 "metadata": {
  "kernelspec": {
   "display_name": "torch2",
   "language": "python",
   "name": "python3"
  },
  "language_info": {
   "codemirror_mode": {
    "name": "ipython",
    "version": 3
   },
   "file_extension": ".py",
   "mimetype": "text/x-python",
   "name": "python",
   "nbconvert_exporter": "python",
   "pygments_lexer": "ipython3",
   "version": "3.10.10"
  },
  "orig_nbformat": 4
 },
 "nbformat": 4,
 "nbformat_minor": 2
}
