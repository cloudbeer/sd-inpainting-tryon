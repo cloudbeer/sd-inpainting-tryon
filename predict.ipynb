{
 "cells": [
  {
   "attachments": {},
   "cell_type": "markdown",
   "metadata": {},
   "source": [
    "# 在 SageMaker 上使用 Stable Diffusion 的局部重绘给衣服换模特 (推理)"
   ]
  },
  {
   "cell_type": "code",
   "execution_count": 1,
   "metadata": {},
   "outputs": [
    {
     "name": "stdout",
     "output_type": "stream",
     "text": [
      "https://d1ffqcflvp9rc.cloudfront.net/works_result/2023-05-16/index-72a71232-c83e-4261-ad9f-64f5c3631eef.html\n"
     ]
    }
   ],
   "source": [
    "\n",
    "from sagemaker.huggingface.model import HuggingFacePredictor\n",
    "\n",
    "predictor = HuggingFacePredictor(\n",
    "  endpoint_name='sd-inpainting-tryon'\n",
    ")\n",
    "\n",
    "res = predictor.predict({\n",
    "    \"prompt\": \"a strong man,back view,white shorts,football field\",\n",
    "    \"image_url\": \"s3://cloudbeer-llm-models/works/2023-05-16/shirt01.png\",\n",
    "    \"mask_url\": \"s3://cloudbeer-llm-models/works/2023-05-16/shirt01_mask.png\",\n",
    "    \"num_images_per_prompt\": 10,\n",
    "    \"width\": 512,\n",
    "    \"height\": 512\n",
    "})\n",
    "\n",
    "print(res)"
   ]
  },
  {
   "cell_type": "code",
   "execution_count": null,
   "metadata": {},
   "outputs": [],
   "source": [
    "predictor.delete_model()\n",
    "predictor.delete_endpoint()"
   ]
  }
 ],
 "metadata": {
  "kernelspec": {
   "display_name": "torch2",
   "language": "python",
   "name": "python3"
  },
  "language_info": {
   "codemirror_mode": {
    "name": "ipython",
    "version": 3
   },
   "file_extension": ".py",
   "mimetype": "text/x-python",
   "name": "python",
   "nbconvert_exporter": "python",
   "pygments_lexer": "ipython3",
   "version": "3.10.10"
  },
  "orig_nbformat": 4
 },
 "nbformat": 4,
 "nbformat_minor": 2
}
